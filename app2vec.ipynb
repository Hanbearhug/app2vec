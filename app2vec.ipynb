{
 "cells": [
  {
   "cell_type": "code",
   "execution_count": 1,
   "metadata": {},
   "outputs": [],
   "source": [
    "import pandas as pd\n",
    "import numpy as np\n",
    "with open('text8') as f:\n",
    "    text = f.readline().split(' ')\n",
    "steps = int(len(text)/30)\n",
    "sentences = [text[30*index:30*(index+1)] for index in np.arange(steps)]\n",
    "for i in range(len(sentences)):\n",
    "    sentence = [word.lower() for word in sentences[i] if len(word)>0 and word.lower() not in ['a', 'an', 'the', 'is', 'am', 'was', 'are', 'and', 'or', 'of', 'for', 'he', 'she', 'i']]\n",
    "    sentences[i] = sentence"
   ]
  },
  {
   "cell_type": "code",
   "execution_count": 2,
   "metadata": {},
   "outputs": [],
   "source": [
    "from tqdm import tqdm\n",
    "import tensorflow.compat.v1 as tf\n",
    "class app2vec:\n",
    "    def __init__(self, sentences,  embedding_size, word2index=None, index2word=None, vocab_size=None,\n",
    "                 vocab=None, K=10, window_size=5, learning_rate=0.01, random_seed=79, distortion = 0.75,\n",
    "                 batch_size=64, is_weighted=False, sentences_gap_time=None, alpha=0.8, epislon=1e-3,\n",
    "                 use_log_distribution = True, min_word_count=5, epochs=10):\n",
    "        \"\"\"\n",
    "        app2vec的tensorflow实现\n",
    "        :param sentences: 训练语料（即app序列）\n",
    "        :param vocab_size: 字典大小\n",
    "        :param embedding_size: 嵌入矩阵的维度\n",
    "        :param word2index: 词到索引的转换字典\n",
    "        :param index2word: 索引到词的转换字典\n",
    "        :param vocab: 字典，如果use_log_distribution为真，则索引从小到大按照词频从大到小排列\n",
    "        :param K: 负采样的采样数量\n",
    "        :param window_size: 生成训练样本时的窗口大小（生成的训练样本长度为[batch_size, 2 * window_size]）\n",
    "        :param learning_rate: 反向传播学习率\n",
    "        :param random_seed: 随机种子\n",
    "        :param distortion: 用于对均匀分布进行扭曲，word2vec原论文中使用distortion=0.75来做扭曲使得词频大的样本\n",
    "        采样的频率不会过大，词频小的样本采样的频率不会过小\n",
    "        :param batch_size:训练时的batch_size大小\n",
    "        :param is_weighted:是否使用安装时间加权\n",
    "        :param sentences_gap_time:与sentences规格一样，每一个app的安装时间\n",
    "        :param alpha:\n",
    "        :param epislon:如果加权，每一个词的最小权重，防止loss爆炸，出现nan的情况\n",
    "        :param use_log_distribution:是否使用log分布抽样，如果是则vocab排序必须有序，如果否则默认\n",
    "        使用原word2vec中调整的均匀分布进行采样。\n",
    "        :param min_word_count: 进入词典的最小出现频次数，如果低于此数值则默认设置为unknown\n",
    "        :param epochs: 初始化训练次数\n",
    "        \"\"\"\n",
    "        if (is_weighted == True) and (sentences_gap_time is None):\n",
    "            raise Exception('加权条件下必须给出对应的gap_time值！')\n",
    " \n",
    "        self.random_seed = random_seed\n",
    "        if vocab_size and word2index and index2word and vocab:\n",
    "            self.vocab_size = vocab_size\n",
    "            self.word2index = word2index\n",
    "            self.index2word = index2word\n",
    "            self.vocab = vocab\n",
    "        else:\n",
    "            self.vocab, self.word2index, self.index2word, self.vocab_size = self._get_vocab_size_and_word_index(sentences, min_word_count)\n",
    "\n",
    "        self.embedding_size = embedding_size\n",
    "        self.window_size = window_size\n",
    "        self.get_vector = None\n",
    "        self.batch_size = batch_size\n",
    "        self.unigrams = list(self.vocab.values())\n",
    "\n",
    "        self.distortion = 0.75\n",
    "        self.K = K\n",
    "        self.learning_rate = learning_rate\n",
    "        self.epislon = epislon\n",
    "        # self.word_vector 规格为[None, window_size, embedding_size]\n",
    "        self.is_weighted = is_weighted\n",
    "        self.sentences_gap_time = sentences_gap_time\n",
    "        self.alpha = alpha\n",
    "        self.use_log_distribution = use_log_distribution\n",
    "        self.distortion = distortion\n",
    " \n",
    "        self.sentences = self.preprocess(sentences)\n",
    "        self.word_weight=None\n",
    "        if self.is_weighted:\n",
    "            self.word_vector, self.word_weight, self.label = self.transform_sentences()\n",
    "        else:\n",
    "            self.word_vector, self.label = self.transform_sentences()\n",
    "        self.wordVectors = None\n",
    "        print(f'训练集大小为{self.word_vector.shape[0]}')\n",
    "        self._init_graph()\n",
    "        print(f'开始训练*******************************')\n",
    "        total_loss = self.fit(self.word_vector, self.label, self.word_weight, epochs=epochs)\n",
    " \n",
    "    def __len__(self):\n",
    "        return len(self.vocab)\n",
    "\n",
    "    def _get_vocab_size_and_word_index(self, sentences, min_word_count):\n",
    "        trans_sentences = []\n",
    "        index2word = dict()\n",
    "        vocab = dict()\n",
    "        for sentence in sentences:\n",
    "            for word in sentence:\n",
    "                try:\n",
    "                    vocab[word]+=1\n",
    "                except:\n",
    "                    vocab[word]=1\n",
    "        vocab_trans = dict()\n",
    "        for key in vocab.keys():\n",
    "            if vocab[key] < min_word_count:\n",
    "                try:\n",
    "                    vocab_trans['unknown'] += vocab[key]\n",
    "                except:\n",
    "                    vocab_trans['unknown'] = vocab[key]\n",
    "            else:\n",
    "                vocab_trans[key]=vocab[key]\n",
    "        vocab_trans['pad']=1\n",
    "        sorted_words = sorted(vocab_trans, key=lambda r: vocab[r], reverse=True)\n",
    "        word2index = dict(zip(sorted_words, range(len(sorted_words))))\n",
    "        index2word = dict(zip(range(len(sorted_words)), sorted_words))\n",
    "        vocab_size = len(sorted_words)\n",
    "        return vocab_trans, word2index, index2word, vocab_size\n",
    "\n",
    " \n",
    "    def _get_vector_count(self):\n",
    "        return self.word_vector.shape[0]\n",
    " \n",
    "    def _init_graph(self):\n",
    "        self.graph = tf.Graph()\n",
    "        with self.graph.as_default():\n",
    "            tf.set_random_seed(self.random_seed)\n",
    " \n",
    "            self.weights = self._initialize_weights()\n",
    " \n",
    "            self.context = tf.placeholder(tf.int64, shape=[None, None], name='context')\n",
    "            self.output = tf.placeholder(tf.int64, shape=[None, 1], name='output')\n",
    " \n",
    "            self.context_v_vector = tf.nn.embedding_lookup(self.weights['embedding_v'], self.context,\n",
    "                                                           name='context_v_vector')  # [None, window_size, embedding_size]\n",
    "            self.output_u_vector = tf.nn.embedding_lookup(self.weights['embedding_u'], self.output,\n",
    "                                                          name='output_u_vector')\n",
    "            if self.is_weighted:\n",
    "                self.context_weight = tf.placeholder(tf.float32, shape=[None, None, 1], name='context_weight')\n",
    "                self.context_weight_norm = tf.div(self.context_weight,\n",
    "                                                  tf.reduce_sum(self.context_weight, keepdims=True, axis=1),\n",
    "                                                  name='context_weight_norm')\n",
    " \n",
    "                self.weighted_context_v_vector = tf.multiply(self.context_v_vector, self.context_weight_norm,\n",
    "                                                             name='weighted_context_v_vector')\n",
    "                self.context_v_vector_average = tf.reduce_mean(self.weighted_context_v_vector, axis=1,\n",
    "                                                               name='context_v_vector_average')\n",
    " \n",
    "            else:\n",
    "                self.context_v_vector_average = tf.reduce_mean(self.context_v_vector, axis=1,\n",
    "                                                               name='context_v_vector_average')  # [None, embedding_size]\n",
    "            # self.log_likelyhood_denominator = tf.reduce_sum(tf.exp(tf.matmul(self.context_v_vector_average, tf.transpose(self.u, [1, 0]))), name='log_likelyhood_denominator') # [None]\n",
    "            # self.log_likelyhood_numerator = tf.diag_part(tf.matmul(self.output_u_vector, tf.transpose(self.context_v_vector_average, [1,0])), name='log_likelyhood_numerator') # [None]\n",
    "            # self.log_likelyhood = tf.reduce_sum(tf.log(self.log_likelyhood_denominator) - tf.log(self.log_likelyhood_denominator), name='log_likelyhood')\n",
    "            nce_biases = tf.Variable(tf.zeros([len(self)]))\n",
    "            if not self.use_log_distribution:\n",
    "                sample_values = candidate_sampling_ops.fixed_unigram_candidate_sampler(\n",
    "                    true_classes=self.output,\n",
    "                    num_true=1,\n",
    "                    num_sampled=self.K,\n",
    "                    unique=True,\n",
    "                    range_max=len(self),\n",
    "                    seed=self.random_seed,\n",
    "                    distortion=self.distortion,\n",
    "                    unigrams=self.unigrams\n",
    "                )\n",
    "            else:\n",
    "                sample_values = None\n",
    " \n",
    "            self.loss = tf.reduce_mean(\n",
    "                tf.nn.nce_loss(\n",
    "                    weights=self.weights['embedding_u'],\n",
    "                    biases=nce_biases,\n",
    "                    labels=self.output,\n",
    "                    inputs=self.context_v_vector_average,\n",
    "                    num_sampled=self.K,\n",
    "                    num_classes=len(self),\n",
    "                    sampled_values=sample_values\n",
    "                )\n",
    "            )\n",
    " \n",
    "            self.train_op = tf.train.AdamOptimizer(self.learning_rate).minimize(self.loss)\n",
    " \n",
    "            init = tf.global_variables_initializer()\n",
    "            self.sess = self._init_session()\n",
    "            self.sess.run(init)\n",
    " \n",
    "    def _init_session(self):\n",
    "        config = tf.ConfigProto(device_count={\"gpu\": 0})\n",
    "        config.gpu_options.allow_growth = True\n",
    "        return tf.Session(config=config)\n",
    " \n",
    "    def get_batch(self, word_vector, label, word_weight=None):\n",
    "        steps = int(word_vector.shape[0] / self.batch_size) + 1\n",
    "        for i in range(steps):\n",
    "            try:\n",
    "                word_batch = word_vector[i * self.batch_size:(i + 1) * self.batch_size, :]\n",
    "                label_batch = label[i * self.batch_size:(i + 1) * self.batch_size, :]\n",
    "                if self.is_weighted:\n",
    "                    weight_batch = word_weight[i * self.batch_size:(i + 1) * self.batch_size, :]\n",
    " \n",
    "            except:\n",
    "                word_batch = word_vector[i * self.batch_size:, :]\n",
    "                label_batch = label[i * self.batch_size:, :]\n",
    "                if self.is_weighted:\n",
    "                    weight_batch = word_weight[i * self.batch_size:, :]\n",
    " \n",
    "            if self.is_weighted:\n",
    "                yield word_batch, weight_batch, label_batch\n",
    "            else:\n",
    "                yield word_batch, label_batch\n",
    " \n",
    "    def fit_on_batch(self, word_batch, label_batch, weight_batch=None):\n",
    "        if self.is_weighted:\n",
    "            feed_dict = {\n",
    "                self.context: word_batch,\n",
    "                self.output: label_batch,\n",
    "                self.context_weight: weight_batch\n",
    "            }\n",
    "        else:\n",
    "            feed_dict = {\n",
    "                self.context: word_batch,\n",
    "                self.output: label_batch\n",
    "            }\n",
    " \n",
    "        loss, opt = self.sess.run([self.loss, self.train_op], feed_dict=feed_dict)\n",
    "        return loss\n",
    " \n",
    "    def shuffle_word_label(self, word_vector, label, word_weight=None):\n",
    "        index = np.random.permutation(range(word_vector.shape[0]))\n",
    "        word_vector = word_vector[index, :]\n",
    "        label = label[index]\n",
    "        if self.is_weighted:\n",
    "            word_weight = word_weight[index, :]\n",
    "            return word_vector, word_weight, label\n",
    "        else:\n",
    "            return word_vector, label\n",
    " \n",
    "    def fit(self, word_vector, label, word_weight=None, epochs=10):\n",
    "        for epoch in range(epochs):\n",
    "            steps = int(word_vector.shape[0] / self.batch_size) + 1\n",
    "            total_loss = []\n",
    "            if self.is_weighted:\n",
    "                word_vector, word_weight, label = self.shuffle_word_label(word_vector, label, word_weight)\n",
    " \n",
    "                for word_batch, weight_batch, label_batch in tqdm(\n",
    "                        self.get_batch(word_vector, label, word_weight), total=steps, postfix=f'epoch: {epoch}',\n",
    "                        leave=False):\n",
    "                    if len(word_batch) == 0:\n",
    "                        break\n",
    "                    loss = self.fit_on_batch(word_batch, label_batch, weight_batch)\n",
    "                    total_loss.append(loss)\n",
    "            else:\n",
    "                word_vector, label = self.shuffle_word_label(word_vector, label)\n",
    " \n",
    "                for word_batch, label_batch in tqdm(self.get_batch(word_vector, label), total=steps,\n",
    "                                                             postfix=f'epoch: {epoch}', leave=False):\n",
    "                    loss = self.fit_on_batch(word_batch, label_batch)\n",
    "                    total_loss.append(loss)\n",
    "            print(f'epoch: {epoch} loss:{np.mean(total_loss)}')\n",
    "        self.wordVectors = self.sess.run(self.weights['embedding_u'])\n",
    "        self.word_norm = np.sqrt(np.square(self.wordVectors).sum(axis=1))\n",
    "        return total_loss\n",
    " \n",
    "    def preprocess(self, sentences):\n",
    "        post_sentences = []\n",
    "        for sentence in sentences:\n",
    "            if len(sentence) == 0:\n",
    "                continue\n",
    "            else:\n",
    "                new_sentence = [word if (word in self.word2index.keys()) else 'unknown' for word in sentence]\n",
    "                post_sentences.append(new_sentence)\n",
    "        return post_sentences\n",
    " \n",
    "    def transform_sentences(self):\n",
    "        word_vector = []\n",
    "        word_weight = []\n",
    "        labels = []\n",
    "        if self.is_weighted:\n",
    "            for sentence, gap_time in tqdm(zip(self.sentences, self.sentences_gap_time),\n",
    "                                                    total=len(self.sentences)):\n",
    "                if isinstance(sentence, list):\n",
    "                    sentence = ['pad'] * self.window_size + sentence + ['pad'] * self.window_size\n",
    "                    if self.is_weighted:\n",
    "                        gap_time = [0] * self.window_size + gap_time + [0] * self.window_size\n",
    "                    for word_index in range(self.window_size, len(sentence) - self.window_size):\n",
    "                        window = [sentence[word_index + i] for i in range(-self.window_size, self.window_size + 1) if\n",
    "                                  i != 0]\n",
    "                        vector = [self.word2index[word] for word in window]\n",
    "                        \n",
    "                        vector_window = [gap_time[word_index + i] for i in\n",
    "                                         range(-self.window_size, self.window_size + 1) if i != 0]\n",
    "                        label_time = float(gap_time[word_index])\n",
    "                        vector_weights = [self.epislon if vector_gap == 0 else max(self.epislon, self.alpha ** (\n",
    "                                    abs(float(vector_gap) - label_time) / 8640000)) for vector_gap in vector_window]\n",
    "     \n",
    "                        label = self.word2index[sentence[word_index]]\n",
    "                        if len(vector_weights) == len(vector):\n",
    "                            word_weight.append(vector_weights)\n",
    "                            word_vector.append(vector)\n",
    "                        else:\n",
    "                            print('权重和向量长度不相等！')\n",
    "                        labels.append(label)\n",
    "        \n",
    "            return np.array(word_vector), np.expand_dims(np.array(word_weight), axis=2), np.array(labels).reshape(\n",
    "                (-1, 1))\n",
    "        else:\n",
    "            for sentence in tqdm(self.sentences, total=len(self.sentences)):\n",
    "                if isinstance(sentence, list):\n",
    "                    sentence = ['pad'] * self.window_size + sentence + ['pad'] * self.window_size\n",
    "                    for word_index in range(self.window_size, len(sentence) - self.window_size):\n",
    "                        window = [sentence[word_index + i] for i in range(-self.window_size, self.window_size + 1) if\n",
    "                                  i != 0]\n",
    "                        vector = [self.word2index[word] for word in window]\n",
    "                        label = self.word2index[sentence[word_index]]\n",
    "                        word_vector.append(vector)\n",
    "                        labels.append(label)\n",
    "            return np.array(word_vector), np.array(labels).reshape((-1, 1))\n",
    " \n",
    "    def _initialize_weights(self):\n",
    "        weights = dict()\n",
    " \n",
    "        # embeddings\n",
    "        weights['embedding_u'] = tf.Variable(\n",
    "            tf.random_normal([self.vocab_size, self.embedding_size], 0.0, 0.01),\n",
    "            name='embedding_u'\n",
    "        )\n",
    " \n",
    "        weights['embedding_v'] = tf.Variable(\n",
    "            tf.random_normal([self.vocab_size, self.embedding_size], 0.0, 0.01),\n",
    "            name='embedding_v'\n",
    "        )\n",
    "        return weights\n",
    " \n",
    "    def get_weight(self, app):\n",
    "        if isinstance(app, str):\n",
    "            app = np.array([self.word2index[app]]).reshape((-1, 1))\n",
    "        else:\n",
    "            app = np.array([app]).reshape((-1, 1))\n",
    "        app_weights = self.sess.run(self.output_u_vector, feed_dict={self.output: app})\n",
    "        return app_weights\n",
    " \n",
    "    def get_most_similar(self, word=None, k=10):\n",
    "        word_index = self.word2index[word]\n",
    "        word_vector = self.wordVectors[word_index, :]\n",
    "        app_norm = np.sqrt(np.square(word_vector).sum())\n",
    " \n",
    "        cos_similarity = np.dot(self.wordVectors, word_vector) / (self.word_norm * app_norm)\n",
    "        most_k = np.argsort(cos_similarity)[-k:]\n",
    "        most_similar_word = [self.index2word[i] for i in most_k]\n",
    "        return most_similar_word"
   ]
  },
  {
   "cell_type": "code",
   "execution_count": 58,
   "metadata": {},
   "outputs": [
    {
     "name": "stderr",
     "output_type": "stream",
     "text": [
      "100%|█████████████████████████████████████████████████████████████████████████| 50000/50000 [00:03<00:00, 12828.51it/s]\n"
     ]
    },
    {
     "name": "stdout",
     "output_type": "stream",
     "text": [
      "训练集大小为1222362\n",
      "开始训练*******************************\n"
     ]
    },
    {
     "name": "stderr",
     "output_type": "stream",
     "text": [
      "  0%|                                                                    | 18/19100 [00:00<01:47, 176.94it/s, epoch: 1]"
     ]
    },
    {
     "name": "stdout",
     "output_type": "stream",
     "text": [
      "epoch: 0 loss:19.457204818725586\n"
     ]
    },
    {
     "name": "stderr",
     "output_type": "stream",
     "text": [
      "  0%|                                                                    | 21/19100 [00:00<01:33, 204.42it/s, epoch: 2]"
     ]
    },
    {
     "name": "stdout",
     "output_type": "stream",
     "text": [
      "epoch: 1 loss:11.265423774719238\n"
     ]
    },
    {
     "name": "stderr",
     "output_type": "stream",
     "text": [
      "  0%|                                                                    | 21/19100 [00:00<01:33, 203.55it/s, epoch: 3]"
     ]
    },
    {
     "name": "stdout",
     "output_type": "stream",
     "text": [
      "epoch: 2 loss:10.57028865814209\n"
     ]
    },
    {
     "name": "stderr",
     "output_type": "stream",
     "text": [
      "  0%|                                                                    | 18/19100 [00:00<01:46, 178.70it/s, epoch: 4]"
     ]
    },
    {
     "name": "stdout",
     "output_type": "stream",
     "text": [
      "epoch: 3 loss:10.206185340881348\n"
     ]
    },
    {
     "name": "stderr",
     "output_type": "stream",
     "text": [
      "  0%|                                                                    | 20/19100 [00:00<01:38, 192.82it/s, epoch: 5]"
     ]
    },
    {
     "name": "stdout",
     "output_type": "stream",
     "text": [
      "epoch: 4 loss:9.980178833007812\n"
     ]
    },
    {
     "name": "stderr",
     "output_type": "stream",
     "text": [
      "  0%|                                                                    | 18/19100 [00:00<01:51, 171.89it/s, epoch: 6]"
     ]
    },
    {
     "name": "stdout",
     "output_type": "stream",
     "text": [
      "epoch: 5 loss:9.872269630432129\n"
     ]
    },
    {
     "name": "stderr",
     "output_type": "stream",
     "text": [
      "  0%|                                                                    | 18/19100 [00:00<01:49, 173.53it/s, epoch: 7]"
     ]
    },
    {
     "name": "stdout",
     "output_type": "stream",
     "text": [
      "epoch: 6 loss:9.665048599243164\n"
     ]
    },
    {
     "name": "stderr",
     "output_type": "stream",
     "text": [
      "  0%|                                                                    | 19/19100 [00:00<01:43, 184.96it/s, epoch: 8]"
     ]
    },
    {
     "name": "stdout",
     "output_type": "stream",
     "text": [
      "epoch: 7 loss:9.649993896484375\n"
     ]
    },
    {
     "name": "stderr",
     "output_type": "stream",
     "text": [
      "  0%|                                                                    | 18/19100 [00:00<01:51, 171.88it/s, epoch: 9]"
     ]
    },
    {
     "name": "stdout",
     "output_type": "stream",
     "text": [
      "epoch: 8 loss:9.532127380371094\n"
     ]
    },
    {
     "name": "stderr",
     "output_type": "stream",
     "text": [
      "                                                                                                                       "
     ]
    },
    {
     "name": "stdout",
     "output_type": "stream",
     "text": [
      "epoch: 9 loss:9.397991180419922\n"
     ]
    },
    {
     "name": "stderr",
     "output_type": "stream",
     "text": [
      "\r"
     ]
    }
   ],
   "source": [
    "App2Vec = app2vec(sentences[:50000], 30)"
   ]
  },
  {
   "cell_type": "code",
   "execution_count": 59,
   "metadata": {},
   "outputs": [
    {
     "data": {
      "text/plain": [
       "['again',\n",
       " 'last',\n",
       " 'eighth',\n",
       " 'third',\n",
       " 'beating',\n",
       " 'second',\n",
       " 'ivo',\n",
       " 'subsequently',\n",
       " 'fourth',\n",
       " 'first']"
      ]
     },
     "execution_count": 59,
     "metadata": {},
     "output_type": "execute_result"
    }
   ],
   "source": [
    "App2Vec.get_most_similar('first')"
   ]
  },
  {
   "cell_type": "code",
   "execution_count": 60,
   "metadata": {},
   "outputs": [
    {
     "data": {
      "text/plain": [
       "['wells',\n",
       " 'rainbow',\n",
       " 'disaster',\n",
       " 'green',\n",
       " 'pink',\n",
       " 'brazilian',\n",
       " 'black',\n",
       " 'white',\n",
       " 'yellow',\n",
       " 'red']"
      ]
     },
     "execution_count": 60,
     "metadata": {},
     "output_type": "execute_result"
    }
   ],
   "source": [
    "App2Vec.get_most_similar('red')"
   ]
  },
  {
   "cell_type": "code",
   "execution_count": 3,
   "metadata": {},
   "outputs": [],
   "source": [
    "sentences_gap_time = []\n",
    "\n",
    "for sentence in sentences:\n",
    "    gap_time = [1606352522]*len(sentence)\n",
    "    sentences_gap_time.append(gap_time)"
   ]
  },
  {
   "cell_type": "code",
   "execution_count": 4,
   "metadata": {},
   "outputs": [
    {
     "name": "stderr",
     "output_type": "stream",
     "text": [
      "100%|██████████████████████████████████████████████████████████████████████████| 50000/50000 [00:11<00:00, 4327.43it/s]\n"
     ]
    },
    {
     "name": "stdout",
     "output_type": "stream",
     "text": [
      "训练集大小为1222362\n",
      "WARNING:tensorflow:From C:\\Users\\hugbear\\AppData\\Roaming\\Python\\Python36\\site-packages\\tensorflow\\python\\ops\\resource_variable_ops.py:1666: calling BaseResourceVariable.__init__ (from tensorflow.python.ops.resource_variable_ops) with constraint is deprecated and will be removed in a future version.\n",
      "Instructions for updating:\n",
      "If using Keras pass *_constraint arguments to layers.\n",
      "WARNING:tensorflow:From <ipython-input-2-157cd980c717>:124: div (from tensorflow.python.ops.math_ops) is deprecated and will be removed in a future version.\n",
      "Instructions for updating:\n",
      "Deprecated in favor of operator or tf.math.divide.\n"
     ]
    },
    {
     "name": "stderr",
     "output_type": "stream",
     "text": [
      "\r",
      "  0%|                                                                              | 0/19100 [00:00<?, ?it/s, epoch: 0]"
     ]
    },
    {
     "name": "stdout",
     "output_type": "stream",
     "text": [
      "开始训练*******************************\n"
     ]
    },
    {
     "name": "stderr",
     "output_type": "stream",
     "text": [
      "  0%|                                                                              | 0/19100 [00:00<?, ?it/s, epoch: 1]"
     ]
    },
    {
     "name": "stdout",
     "output_type": "stream",
     "text": [
      "epoch: 0 loss:20.632997512817383\n"
     ]
    },
    {
     "name": "stderr",
     "output_type": "stream",
     "text": [
      "  0%|                                                                              | 0/19100 [00:00<?, ?it/s, epoch: 2]"
     ]
    },
    {
     "name": "stdout",
     "output_type": "stream",
     "text": [
      "epoch: 1 loss:11.667088508605957\n"
     ]
    },
    {
     "name": "stderr",
     "output_type": "stream",
     "text": [
      "  0%|                                                                              | 0/19100 [00:00<?, ?it/s, epoch: 3]"
     ]
    },
    {
     "name": "stdout",
     "output_type": "stream",
     "text": [
      "epoch: 2 loss:11.358113288879395\n"
     ]
    },
    {
     "name": "stderr",
     "output_type": "stream",
     "text": [
      "  0%|                                                                              | 0/19100 [00:00<?, ?it/s, epoch: 4]"
     ]
    },
    {
     "name": "stdout",
     "output_type": "stream",
     "text": [
      "epoch: 3 loss:11.186979293823242\n"
     ]
    },
    {
     "name": "stderr",
     "output_type": "stream",
     "text": [
      "  0%|                                                                              | 0/19100 [00:00<?, ?it/s, epoch: 5]"
     ]
    },
    {
     "name": "stdout",
     "output_type": "stream",
     "text": [
      "epoch: 4 loss:10.996045112609863\n"
     ]
    },
    {
     "name": "stderr",
     "output_type": "stream",
     "text": [
      "  0%|                                                                              | 0/19100 [00:00<?, ?it/s, epoch: 6]"
     ]
    },
    {
     "name": "stdout",
     "output_type": "stream",
     "text": [
      "epoch: 5 loss:10.876816749572754\n"
     ]
    },
    {
     "name": "stderr",
     "output_type": "stream",
     "text": [
      "  0%|                                                                              | 0/19100 [00:00<?, ?it/s, epoch: 7]"
     ]
    },
    {
     "name": "stdout",
     "output_type": "stream",
     "text": [
      "epoch: 6 loss:10.586947441101074\n"
     ]
    },
    {
     "name": "stderr",
     "output_type": "stream",
     "text": [
      "  0%|                                                                              | 0/19100 [00:00<?, ?it/s, epoch: 8]"
     ]
    },
    {
     "name": "stdout",
     "output_type": "stream",
     "text": [
      "epoch: 7 loss:10.557825088500977\n"
     ]
    },
    {
     "name": "stderr",
     "output_type": "stream",
     "text": [
      "  0%|                                                                              | 0/19100 [00:00<?, ?it/s, epoch: 9]"
     ]
    },
    {
     "name": "stdout",
     "output_type": "stream",
     "text": [
      "epoch: 8 loss:10.389039039611816\n"
     ]
    },
    {
     "name": "stderr",
     "output_type": "stream",
     "text": [
      "                                                                                                                       "
     ]
    },
    {
     "name": "stdout",
     "output_type": "stream",
     "text": [
      "epoch: 9 loss:10.218778610229492\n"
     ]
    },
    {
     "name": "stderr",
     "output_type": "stream",
     "text": [
      "\r"
     ]
    }
   ],
   "source": [
    "App2Vec_time = app2vec(sentences[:50000], 30, sentences_gap_time=sentences_gap_time[:50000], is_weighted=True)"
   ]
  },
  {
   "cell_type": "code",
   "execution_count": 5,
   "metadata": {},
   "outputs": [
    {
     "data": {
      "text/plain": [
       "['patented',\n",
       " 'time',\n",
       " 'introduced',\n",
       " 'title',\n",
       " 'last',\n",
       " 'fourth',\n",
       " 'second',\n",
       " 'third',\n",
       " 'originally',\n",
       " 'first']"
      ]
     },
     "execution_count": 5,
     "metadata": {},
     "output_type": "execute_result"
    }
   ],
   "source": [
    "App2Vec_time.get_most_similar('first')"
   ]
  },
  {
   "cell_type": "code",
   "execution_count": 6,
   "metadata": {},
   "outputs": [
    {
     "data": {
      "text/plain": [
       "['player',\n",
       " 'car',\n",
       " 'african',\n",
       " 'indian',\n",
       " 'rye',\n",
       " 'bradford',\n",
       " 'cross',\n",
       " 'white',\n",
       " 'black',\n",
       " 'red']"
      ]
     },
     "execution_count": 6,
     "metadata": {},
     "output_type": "execute_result"
    }
   ],
   "source": [
    "App2Vec_time.get_most_similar('red')"
   ]
  },
  {
   "cell_type": "code",
   "execution_count": 30,
   "metadata": {},
   "outputs": [
    {
     "data": {
      "image/png": "[encoded data removed]",
      "text/plain": [
       "<matplotlib.figure.Figure at 0x2afbe976e10>"
      ]
     },
     "metadata": {},
     "output_type": "display_data"
    }
   ],
   "source": [
    "import matplotlib.pyplot as plt\n",
    "visualizeWords = [\n",
    "    \"great\", \"cool\", \"brilliant\", \"wonderful\",  \"amazing\",\n",
    "    \"worth\", \"sweet\", \"boring\", \"bad\", \"dumb\", \"happy\", \n",
    "     \"female\", \"male\", \"queen\", \"king\", \"man\", \"woman\", \"rain\", \"snow\",\n",
    "    \"hail\", \"coffee\", \"tea\"]\n",
    "\n",
    "visualizeIdx = [App2Vec_time.word2index[word] for word in visualizeWords]\n",
    "visualizeVecs = App2Vec_time.wordVectors[visualizeIdx, :]\n",
    "temp = (visualizeVecs - np.mean(visualizeVecs, axis=0))\n",
    "covariance = 1.0 / len(visualizeIdx) * temp.T.dot(temp)\n",
    "U,S,V = np.linalg.svd(covariance)\n",
    "coord = temp.dot(U[:,0:2])\n",
    "\n",
    "for i in range(len(visualizeWords)):\n",
    "    plt.text(coord[i,0], coord[i,1], visualizeWords[i],\n",
    "        bbox=dict(facecolor='green', alpha=0.1))\n",
    "\n",
    "plt.xlim((np.min(coord[:,0]), np.max(coord[:,0])))\n",
    "plt.ylim((np.min(coord[:,1]), np.max(coord[:,1])))\n",
    "\n",
    "plt.savefig('word_vectors.png')"
   ]
  },
  {
   "cell_type": "code",
   "execution_count": null,
   "metadata": {},
   "outputs": [],
   "source": []
  }
 ],
 "metadata": {
  "kernelspec": {
   "display_name": "Python 3",
   "language": "python",
   "name": "python3"
  },
  "language_info": {
   "codemirror_mode": {
    "name": "ipython",
    "version": 3
   },
   "file_extension": ".py",
   "mimetype": "text/x-python",
   "name": "python",
   "nbconvert_exporter": "python",
   "pygments_lexer": "ipython3",
   "version": "3.6.4"
  }
 },
 "nbformat": 4,
 "nbformat_minor": 2
}
